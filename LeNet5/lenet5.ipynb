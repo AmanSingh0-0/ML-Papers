{
 "cells": [
  {
   "cell_type": "markdown",
   "metadata": {
    "papermill": {
     "duration": 0.015249,
     "end_time": "2020-12-08T15:24:49.377252",
     "exception": false,
     "start_time": "2020-12-08T15:24:49.362003",
     "status": "completed"
    },
    "tags": []
   },
   "source": [
    "## A quick implementation of Yann LeCun's LeNet5\n",
    "We will be training on the MNIST dataset of handwritten digits, through which LeNet gained it's fame."
   ]
  },
  {
   "cell_type": "code",
   "execution_count": 1,
   "metadata": {
    "execution": {
     "iopub.execute_input": "2020-12-08T15:24:49.412117Z",
     "iopub.status.busy": "2020-12-08T15:24:49.411437Z",
     "iopub.status.idle": "2020-12-08T15:24:54.670720Z",
     "shell.execute_reply": "2020-12-08T15:24:54.669629Z"
    },
    "papermill": {
     "duration": 5.279385,
     "end_time": "2020-12-08T15:24:54.670880",
     "exception": false,
     "start_time": "2020-12-08T15:24:49.391495",
     "status": "completed"
    },
    "tags": []
   },
   "outputs": [],
   "source": [
    "import numpy as np\n",
    "import tensorflow as tf\n",
    "from tensorflow import keras\n",
    "import matplotlib.pyplot as plt"
   ]
  },
  {
   "cell_type": "code",
   "execution_count": 2,
   "metadata": {
    "execution": {
     "iopub.execute_input": "2020-12-08T15:24:54.704333Z",
     "iopub.status.busy": "2020-12-08T15:24:54.703550Z",
     "iopub.status.idle": "2020-12-08T15:24:54.706469Z",
     "shell.execute_reply": "2020-12-08T15:24:54.705970Z"
    },
    "papermill": {
     "duration": 0.021041,
     "end_time": "2020-12-08T15:24:54.706563",
     "exception": false,
     "start_time": "2020-12-08T15:24:54.685522",
     "status": "completed"
    },
    "tags": []
   },
   "outputs": [],
   "source": [
    "mnist = keras.datasets.mnist"
   ]
  },
  {
   "cell_type": "code",
   "execution_count": 3,
   "metadata": {
    "execution": {
     "iopub.execute_input": "2020-12-08T15:24:54.741841Z",
     "iopub.status.busy": "2020-12-08T15:24:54.741020Z",
     "iopub.status.idle": "2020-12-08T15:24:58.441220Z",
     "shell.execute_reply": "2020-12-08T15:24:58.442111Z"
    },
    "papermill": {
     "duration": 3.721192,
     "end_time": "2020-12-08T15:24:58.442260",
     "exception": false,
     "start_time": "2020-12-08T15:24:54.721068",
     "status": "completed"
    },
    "tags": []
   },
   "outputs": [
    {
     "name": "stdout",
     "output_type": "stream",
     "text": [
      "Downloading data from https://storage.googleapis.com/tensorflow/tf-keras-datasets/mnist.npz\n",
      "11493376/11490434 [==============================] - 0s 0us/step\n"
     ]
    }
   ],
   "source": [
    "(x_train, y_train), (x_test, y_test) = mnist.load_data()\n",
    "x_train = (x_train / 255).reshape(60000, 28, 28, 1)\n",
    "x_test = (x_test / 255).reshape(10000, 28, 28, 1)\n",
    "y_train = tf.one_hot(y_train, 10)\n",
    "y_test = tf.one_hot(y_test, 10)"
   ]
  },
  {
   "cell_type": "markdown",
   "metadata": {
    "papermill": {
     "duration": 0.016246,
     "end_time": "2020-12-08T15:24:58.479624",
     "exception": false,
     "start_time": "2020-12-08T15:24:58.463378",
     "status": "completed"
    },
    "tags": []
   },
   "source": [
    "The structure of LeCun's LeNet5 can be found in many resources online. It introduces the now standard structure of convolutional layers followed by pooling layers. The network (and the dataset) is small enough to be run on a small machine in very little time."
   ]
  },
  {
   "cell_type": "code",
   "execution_count": 4,
   "metadata": {
    "execution": {
     "iopub.execute_input": "2020-12-08T15:24:58.524720Z",
     "iopub.status.busy": "2020-12-08T15:24:58.524151Z",
     "iopub.status.idle": "2020-12-08T15:24:58.620263Z",
     "shell.execute_reply": "2020-12-08T15:24:58.619723Z"
    },
    "papermill": {
     "duration": 0.12416,
     "end_time": "2020-12-08T15:24:58.620366",
     "exception": false,
     "start_time": "2020-12-08T15:24:58.496206",
     "status": "completed"
    },
    "tags": []
   },
   "outputs": [],
   "source": [
    "inputs = tf.keras.Input(shape=(28, 28, 1))\n",
    "X = tf.keras.layers.Conv2D(filters=6, kernel_size=5, padding=\"same\", strides=1, activation=\"tanh\", input_shape=(None,28,28,1), name=\"conv1\")(inputs)\n",
    "X = tf.keras.layers.AveragePooling2D(pool_size=2, padding=\"valid\", strides=2)(X)\n",
    "X = tf.keras.layers.Conv2D(filters = 16, kernel_size=5, padding=\"valid\", strides=1, activation=\"tanh\")(X)\n",
    "X = tf.keras.layers.AveragePooling2D(pool_size=2, padding=\"valid\", strides=2)(X)\n",
    "X = tf.keras.layers.Flatten()(X)\n",
    "X = tf.keras.layers.Dense(units=120, activation=\"tanh\")(X)\n",
    "X = tf.keras.layers.Dense(units=84, activation=\"tanh\")(X)\n",
    "outputs = tf.keras.layers.Dense(units=10, activation=\"softmax\")(X)\n",
    "\n",
    "\n",
    "model = tf.keras.Model(inputs = inputs, outputs = outputs)\n",
    "opt = tf.keras.optimizers.Adam(learning_rate=0.01)\n",
    "\n"
   ]
  },
  {
   "cell_type": "code",
   "execution_count": 5,
   "metadata": {
    "execution": {
     "iopub.execute_input": "2020-12-08T15:24:58.664208Z",
     "iopub.status.busy": "2020-12-08T15:24:58.662414Z",
     "iopub.status.idle": "2020-12-08T15:24:58.669878Z",
     "shell.execute_reply": "2020-12-08T15:24:58.670506Z"
    },
    "papermill": {
     "duration": 0.033506,
     "end_time": "2020-12-08T15:24:58.670636",
     "exception": false,
     "start_time": "2020-12-08T15:24:58.637130",
     "status": "completed"
    },
    "tags": []
   },
   "outputs": [],
   "source": [
    "model.compile(optimizer = opt, loss =\"categorical_crossentropy\" , metrics = [\"accuracy\"])"
   ]
  },
  {
   "cell_type": "code",
   "execution_count": 6,
   "metadata": {
    "execution": {
     "iopub.execute_input": "2020-12-08T15:24:58.708429Z",
     "iopub.status.busy": "2020-12-08T15:24:58.707792Z",
     "iopub.status.idle": "2020-12-08T15:25:09.531085Z",
     "shell.execute_reply": "2020-12-08T15:25:09.531594Z"
    },
    "papermill": {
     "duration": 10.844313,
     "end_time": "2020-12-08T15:25:09.531731",
     "exception": false,
     "start_time": "2020-12-08T15:24:58.687418",
     "status": "completed"
    },
    "tags": []
   },
   "outputs": [
    {
     "name": "stdout",
     "output_type": "stream",
     "text": [
      "Epoch 1/5\n",
      "469/469 [==============================] - 1s 3ms/step - loss: 0.2333 - accuracy: 0.9284\n",
      "Epoch 2/5\n",
      "469/469 [==============================] - 1s 3ms/step - loss: 0.1359 - accuracy: 0.9595\n",
      "Epoch 3/5\n",
      "469/469 [==============================] - 1s 3ms/step - loss: 0.1149 - accuracy: 0.9658\n",
      "Epoch 4/5\n",
      "469/469 [==============================] - 2s 3ms/step - loss: 0.1077 - accuracy: 0.9683\n",
      "Epoch 5/5\n",
      "469/469 [==============================] - 1s 3ms/step - loss: 0.0978 - accuracy: 0.9707\n"
     ]
    }
   ],
   "source": [
    "history = model.fit(x_train, y_train, batch_size=128, epochs=5)"
   ]
  },
  {
   "cell_type": "code",
   "execution_count": 7,
   "metadata": {
    "execution": {
     "iopub.execute_input": "2020-12-08T15:25:09.669683Z",
     "iopub.status.busy": "2020-12-08T15:25:09.669010Z",
     "iopub.status.idle": "2020-12-08T15:25:09.864826Z",
     "shell.execute_reply": "2020-12-08T15:25:09.864341Z"
    },
    "papermill": {
     "duration": 0.267351,
     "end_time": "2020-12-08T15:25:09.864931",
     "exception": false,
     "start_time": "2020-12-08T15:25:09.597580",
     "status": "completed"
    },
    "tags": []
   },
   "outputs": [
    {
     "data": {
      "image/png": "[encoded data removed]",
      "text/plain": [
       "<Figure size 432x288 with 1 Axes>"
      ]
     },
     "metadata": {
      "needs_background": "light"
     },
     "output_type": "display_data"
    }
   ],
   "source": [
    "plt.plot(history.history['loss'])\n",
    "plt.ylabel('loss')\n",
    "plt.xlabel('epoch')\n",
    "plt.legend(['train', 'test'], loc='upper left')\n",
    "plt.show()"
   ]
  },
  {
   "cell_type": "markdown",
   "metadata": {
    "papermill": {
     "duration": 0.065601,
     "end_time": "2020-12-08T15:25:10.029123",
     "exception": false,
     "start_time": "2020-12-08T15:25:09.963522",
     "status": "completed"
    },
    "tags": []
   },
   "source": [
    "The loss seems to have converged by the fifth epoch."
   ]
  },
  {
   "cell_type": "code",
   "execution_count": 8,
   "metadata": {
    "execution": {
     "iopub.execute_input": "2020-12-08T15:25:10.167137Z",
     "iopub.status.busy": "2020-12-08T15:25:10.166129Z",
     "iopub.status.idle": "2020-12-08T15:25:11.042447Z",
     "shell.execute_reply": "2020-12-08T15:25:11.041947Z"
    },
    "papermill": {
     "duration": 0.947827,
     "end_time": "2020-12-08T15:25:11.042567",
     "exception": false,
     "start_time": "2020-12-08T15:25:10.094740",
     "status": "completed"
    },
    "tags": []
   },
   "outputs": [
    {
     "name": "stdout",
     "output_type": "stream",
     "text": [
      "313/313 [==============================] - 1s 2ms/step - loss: 0.1133 - accuracy: 0.9635\n"
     ]
    },
    {
     "data": {
      "text/plain": [
       "[0.1133158951997757, 0.9635000228881836]"
      ]
     },
     "execution_count": 8,
     "metadata": {},
     "output_type": "execute_result"
    }
   ],
   "source": [
    "model.evaluate(x_test, y_test)"
   ]
  },
  {
   "cell_type": "markdown",
   "metadata": {
    "papermill": {
     "duration": 0.073771,
     "end_time": "2020-12-08T15:25:11.187974",
     "exception": false,
     "start_time": "2020-12-08T15:25:11.114203",
     "status": "completed"
    },
    "tags": []
   },
   "source": [
    "On the validation set, we obtain an accuracy of 97.1%. Apparently, we have not overfit the data at all."
   ]
  },
  {
   "cell_type": "markdown",
   "metadata": {
    "papermill": {
     "duration": 0.070955,
     "end_time": "2020-12-08T15:25:11.332356",
     "exception": false,
     "start_time": "2020-12-08T15:25:11.261401",
     "status": "completed"
    },
    "tags": []
   },
   "source": [
    "### Maxpooling\n",
    "Now, switch the averagepooling out for more modern maxpooling layers. Let's see if this can enhance performance."
   ]
  },
  {
   "cell_type": "code",
   "execution_count": 9,
   "metadata": {
    "execution": {
     "iopub.execute_input": "2020-12-08T15:25:11.490039Z",
     "iopub.status.busy": "2020-12-08T15:25:11.489393Z",
     "iopub.status.idle": "2020-12-08T15:25:11.549021Z",
     "shell.execute_reply": "2020-12-08T15:25:11.548025Z"
    },
    "papermill": {
     "duration": 0.145199,
     "end_time": "2020-12-08T15:25:11.549130",
     "exception": false,
     "start_time": "2020-12-08T15:25:11.403931",
     "status": "completed"
    },
    "tags": []
   },
   "outputs": [],
   "source": [
    "inputs = tf.keras.Input(shape=(28, 28, 1))\n",
    "X = tf.keras.layers.Conv2D(filters=6, kernel_size=5, padding=\"same\", strides=1, activation=\"tanh\", input_shape=(None,28,28,1), name=\"conv1\")(inputs)\n",
    "X = tf.keras.layers.MaxPool2D(pool_size=2, padding=\"valid\", strides=2)(X)\n",
    "X = tf.keras.layers.Conv2D(filters = 16, kernel_size=5, padding=\"valid\", strides=1, activation=\"tanh\")(X)\n",
    "X = tf.keras.layers.MaxPool2D(pool_size=2, padding=\"valid\", strides=2)(X)\n",
    "X = tf.keras.layers.Flatten()(X)\n",
    "X = tf.keras.layers.Dense(units=120, activation=\"tanh\")(X)\n",
    "X = tf.keras.layers.Dense(units=84, activation=\"tanh\")(X)\n",
    "outputs = tf.keras.layers.Dense(units=10, activation=\"softmax\")(X)\n",
    "\n",
    "\n",
    "model2 = tf.keras.Model(inputs = inputs, outputs = outputs)\n",
    "opt = tf.keras.optimizers.Adam(learning_rate=0.01)\n",
    "model2.compile(optimizer = opt, loss =\"categorical_crossentropy\" , metrics = [\"accuracy\"])"
   ]
  },
  {
   "cell_type": "code",
   "execution_count": 10,
   "metadata": {
    "execution": {
     "iopub.execute_input": "2020-12-08T15:25:11.702483Z",
     "iopub.status.busy": "2020-12-08T15:25:11.701298Z",
     "iopub.status.idle": "2020-12-08T15:25:20.015105Z",
     "shell.execute_reply": "2020-12-08T15:25:20.015652Z"
    },
    "papermill": {
     "duration": 8.393645,
     "end_time": "2020-12-08T15:25:20.015828",
     "exception": false,
     "start_time": "2020-12-08T15:25:11.622183",
     "status": "completed"
    },
    "tags": []
   },
   "outputs": [
    {
     "name": "stdout",
     "output_type": "stream",
     "text": [
      "Epoch 1/5\n",
      "469/469 [==============================] - 1s 3ms/step - loss: 0.1549 - accuracy: 0.9526\n",
      "Epoch 2/5\n",
      "469/469 [==============================] - 1s 3ms/step - loss: 0.0864 - accuracy: 0.9733\n",
      "Epoch 3/5\n",
      "469/469 [==============================] - 1s 3ms/step - loss: 0.0824 - accuracy: 0.9754\n",
      "Epoch 4/5\n",
      "469/469 [==============================] - 1s 3ms/step - loss: 0.0800 - accuracy: 0.9757\n",
      "Epoch 5/5\n",
      "469/469 [==============================] - 2s 4ms/step - loss: 0.0838 - accuracy: 0.9744\n"
     ]
    }
   ],
   "source": [
    "history2 = model2.fit(x_train, y_train, batch_size=128, epochs = 5)"
   ]
  },
  {
   "cell_type": "code",
   "execution_count": 11,
   "metadata": {
    "execution": {
     "iopub.execute_input": "2020-12-08T15:25:20.277570Z",
     "iopub.status.busy": "2020-12-08T15:25:20.271889Z",
     "iopub.status.idle": "2020-12-08T15:25:20.427056Z",
     "shell.execute_reply": "2020-12-08T15:25:20.426565Z"
    },
    "papermill": {
     "duration": 0.286976,
     "end_time": "2020-12-08T15:25:20.427167",
     "exception": false,
     "start_time": "2020-12-08T15:25:20.140191",
     "status": "completed"
    },
    "tags": []
   },
   "outputs": [
    {
     "data": {
      "image/png": "[encoded data removed]",
      "text/plain": [
       "<Figure size 432x288 with 1 Axes>"
      ]
     },
     "metadata": {
      "needs_background": "light"
     },
     "output_type": "display_data"
    }
   ],
   "source": [
    "plt.plot(history2.history['loss'])\n",
    "plt.ylabel('loss')\n",
    "plt.xlabel('epoch')\n",
    "plt.legend(['train', 'test'], loc='upper left')\n",
    "plt.show()"
   ]
  },
  {
   "cell_type": "markdown",
   "metadata": {
    "papermill": {
     "duration": 0.125224,
     "end_time": "2020-12-08T15:25:20.677077",
     "exception": false,
     "start_time": "2020-12-08T15:25:20.551853",
     "status": "completed"
    },
    "tags": []
   },
   "source": [
    "We see that the loss actually goes up after the third epoch. Let's see if we can fix this by using a smaller learning rate. Hence, just keep training the model from before, and see if it \"goes back\" to the minimum and then actually converges."
   ]
  },
  {
   "cell_type": "code",
   "execution_count": 12,
   "metadata": {
    "execution": {
     "iopub.execute_input": "2020-12-08T15:25:20.936490Z",
     "iopub.status.busy": "2020-12-08T15:25:20.935625Z",
     "iopub.status.idle": "2020-12-08T15:25:20.948864Z",
     "shell.execute_reply": "2020-12-08T15:25:20.948343Z"
    },
    "papermill": {
     "duration": 0.146821,
     "end_time": "2020-12-08T15:25:20.948965",
     "exception": false,
     "start_time": "2020-12-08T15:25:20.802144",
     "status": "completed"
    },
    "tags": []
   },
   "outputs": [],
   "source": [
    "opt = tf.keras.optimizers.Adam(learning_rate=0.001)\n",
    "model2.compile(optimizer = opt, loss =\"categorical_crossentropy\" , metrics = [\"accuracy\"])"
   ]
  },
  {
   "cell_type": "code",
   "execution_count": 13,
   "metadata": {
    "execution": {
     "iopub.execute_input": "2020-12-08T15:25:21.216098Z",
     "iopub.status.busy": "2020-12-08T15:25:21.214932Z",
     "iopub.status.idle": "2020-12-08T15:25:28.818699Z",
     "shell.execute_reply": "2020-12-08T15:25:28.818110Z"
    },
    "papermill": {
     "duration": 7.740154,
     "end_time": "2020-12-08T15:25:28.818846",
     "exception": false,
     "start_time": "2020-12-08T15:25:21.078692",
     "status": "completed"
    },
    "tags": []
   },
   "outputs": [
    {
     "name": "stdout",
     "output_type": "stream",
     "text": [
      "Epoch 1/5\n",
      "469/469 [==============================] - 1s 3ms/step - loss: 0.0557 - accuracy: 0.9831\n",
      "Epoch 2/5\n",
      "469/469 [==============================] - 1s 3ms/step - loss: 0.0366 - accuracy: 0.9888\n",
      "Epoch 3/5\n",
      "469/469 [==============================] - 1s 3ms/step - loss: 0.0267 - accuracy: 0.9923\n",
      "Epoch 4/5\n",
      "469/469 [==============================] - 1s 3ms/step - loss: 0.0201 - accuracy: 0.9944\n",
      "Epoch 5/5\n",
      "469/469 [==============================] - 1s 3ms/step - loss: 0.0152 - accuracy: 0.9960\n"
     ]
    }
   ],
   "source": [
    "history3 = model2.fit(x_train, y_train, batch_size=128, epochs = 5)"
   ]
  },
  {
   "cell_type": "code",
   "execution_count": 14,
   "metadata": {
    "execution": {
     "iopub.execute_input": "2020-12-08T15:25:29.175856Z",
     "iopub.status.busy": "2020-12-08T15:25:29.174638Z",
     "iopub.status.idle": "2020-12-08T15:25:29.374760Z",
     "shell.execute_reply": "2020-12-08T15:25:29.374241Z"
    },
    "papermill": {
     "duration": 0.383796,
     "end_time": "2020-12-08T15:25:29.374884",
     "exception": false,
     "start_time": "2020-12-08T15:25:28.991088",
     "status": "completed"
    },
    "tags": []
   },
   "outputs": [
    {
     "data": {
      "image/png": "[encoded data removed]",
      "text/plain": [
       "<Figure size 432x288 with 1 Axes>"
      ]
     },
     "metadata": {
      "needs_background": "light"
     },
     "output_type": "display_data"
    }
   ],
   "source": [
    "plt.plot(history3.history['loss'])\n",
    "plt.ylabel('loss')\n",
    "plt.xlabel('epoch')\n",
    "plt.legend(['train', 'test'], loc='upper left')\n",
    "plt.show()"
   ]
  },
  {
   "cell_type": "markdown",
   "metadata": {
    "papermill": {
     "duration": 0.324967,
     "end_time": "2020-12-08T15:25:29.961828",
     "exception": false,
     "start_time": "2020-12-08T15:25:29.636861",
     "status": "completed"
    },
    "tags": []
   },
   "source": [
    "The smaller learning rate fixed the problem of leaving the optimum. Lastly, check the validation error for the maxpooling model:"
   ]
  },
  {
   "cell_type": "code",
   "execution_count": 15,
   "metadata": {
    "execution": {
     "iopub.execute_input": "2020-12-08T15:25:30.431949Z",
     "iopub.status.busy": "2020-12-08T15:25:30.430616Z",
     "iopub.status.idle": "2020-12-08T15:25:31.372942Z",
     "shell.execute_reply": "2020-12-08T15:25:31.372271Z"
    },
    "papermill": {
     "duration": 1.140318,
     "end_time": "2020-12-08T15:25:31.373130",
     "exception": false,
     "start_time": "2020-12-08T15:25:30.232812",
     "status": "completed"
    },
    "tags": []
   },
   "outputs": [
    {
     "name": "stdout",
     "output_type": "stream",
     "text": [
      "313/313 [==============================] - 1s 2ms/step - loss: 0.0482 - accuracy: 0.9851\n"
     ]
    },
    {
     "data": {
      "text/plain": [
       "[0.048245351761579514, 0.9850999712944031]"
      ]
     },
     "execution_count": 15,
     "metadata": {},
     "output_type": "execute_result"
    }
   ],
   "source": [
    "model2.evaluate(x_test, y_test)"
   ]
  },
  {
   "cell_type": "markdown",
   "metadata": {
    "papermill": {
     "duration": 0.188643,
     "end_time": "2020-12-08T15:25:31.750302",
     "exception": false,
     "start_time": "2020-12-08T15:25:31.561659",
     "status": "completed"
    },
    "tags": []
   },
   "source": [
    "Observe that this model improves the first one quite a bit! We do have a larger discrepancy between training and valdiation error, but we still have an increase of more than one percentage point."
   ]
  },
  {
   "cell_type": "code",
   "execution_count": null,
   "metadata": {
    "papermill": {
     "duration": 0.18901,
     "end_time": "2020-12-08T15:25:32.127147",
     "exception": false,
     "start_time": "2020-12-08T15:25:31.938137",
     "status": "completed"
    },
    "tags": []
   },
   "outputs": [],
   "source": []
  }
 ],
 "metadata": {
  "kernelspec": {
   "display_name": "Python 3",
   "language": "python",
   "name": "python3"
  },
  "language_info": {
   "codemirror_mode": {
    "name": "ipython",
    "version": 3
   },
   "file_extension": ".py",
   "mimetype": "text/x-python",
   "name": "python",
   "nbconvert_exporter": "python",
   "pygments_lexer": "ipython3",
   "version": "3.7.6"
  },
  "papermill": {
   "duration": 48.791691,
   "end_time": "2020-12-08T15:25:33.860717",
   "environment_variables": {},
   "exception": null,
   "input_path": "__notebook__.ipynb",
   "output_path": "__notebook__.ipynb",
   "parameters": {},
   "start_time": "2020-12-08T15:24:45.069026",
   "version": "2.1.0"
  }
 },
 "nbformat": 4,
 "nbformat_minor": 4
}
